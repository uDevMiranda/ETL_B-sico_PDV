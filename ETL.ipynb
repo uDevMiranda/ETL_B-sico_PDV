{
 "cells": [
  {
   "cell_type": "markdown",
   "metadata": {},
   "source": [
    "# Projeto ETL Básico - Apresentação\n",
    "\n",
    "## Introdução\n",
    "Este projeto demonstra um processo ETL simples para carregar dados de vendas em um banco de dados SQL.\n",
    "\n",
    "## Estrutura do Projeto\n",
    "O projeto está dividido em três etapas principais:\n",
    "1. **Extração (Extract)**\n",
    "2. **Transformação (Transform)**\n",
    "3. **Carregamento (Load)**\n"
   ]
  },
  {
   "cell_type": "markdown",
   "metadata": {},
   "source": [
    "### 1. Extração (Extract) **Descrição:** Extraindo dados de um arquivo CSV."
   ]
  },
  {
   "cell_type": "code",
   "execution_count": 1,
   "metadata": {},
   "outputs": [
    {
     "name": "stdout",
     "output_type": "stream",
     "text": [
      "Dados Extraídos:\n",
      "    codigo nome_produto  quantidade  preco        data\n",
      "0       1    Chocolate          10   5.00  2024-01-15\n",
      "1       2        Leite           5   3.50  2024-01-15\n",
      "2       3          Pão          20   1.00  2024-01-15\n",
      "3       4         Café           7  10.00  2024-01-15\n",
      "4       5        Arroz          15   4.25  2024-01-15\n"
     ]
    }
   ],
   "source": [
    "import pandas as pd\n",
    "from sqlalchemy import create_engine\n",
    "\n",
    "df = pd.read_csv('vendas.csv')\n",
    "print(\"Dados Extraídos:\\n\", df.head())"
   ]
  },
  {
   "cell_type": "markdown",
   "metadata": {},
   "source": [
    "### 2. Transformação (Transform) **Descrição:** Limpando e preparando os dados, removendo valores nulos, convertendo tipos de dados e realizando cálculos."
   ]
  },
  {
   "cell_type": "code",
   "execution_count": null,
   "metadata": {},
   "outputs": [
    {
     "name": "stdout",
     "output_type": "stream",
     "text": [
      "Dados Transformados:\n",
      "    codigo nome_produto  quantidade  preco       data  total_vendas\n",
      "0       1    Chocolate          10   5.00 2024-01-15         50.00\n",
      "1       2        Leite           5   3.50 2024-01-15         17.50\n",
      "2       3          Pão          20   1.00 2024-01-15         20.00\n",
      "3       4         Café           7  10.00 2024-01-15         70.00\n",
      "4       5        Arroz          15   4.25 2024-01-15         63.75\n"
     ]
    }
   ],
   "source": [
    "df = df.dropna()\n",
    "df['data'] = pd.to_datetime(df['data'])\n",
    "df['total_vendas'] = df['quantidade'] * df['preco']\n",
    "print(\"Dados Transformados:\\n\", df.head())"
   ]
  }
 ],
 "metadata": {
  "kernelspec": {
   "display_name": "Python 3",
   "language": "python",
   "name": "python3"
  },
  "language_info": {
   "codemirror_mode": {
    "name": "ipython",
    "version": 3
   },
   "file_extension": ".py",
   "mimetype": "text/x-python",
   "name": "python",
   "nbconvert_exporter": "python",
   "pygments_lexer": "ipython3",
   "version": "3.11.9"
  }
 },
 "nbformat": 4,
 "nbformat_minor": 2
}
